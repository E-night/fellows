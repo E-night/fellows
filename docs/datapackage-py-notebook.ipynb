{
 "cells": [
  {
   "cell_type": "markdown",
   "metadata": {},
   "source": [
    "## Using Frictionless Data [datapackage-py](https://github.com/frictionlessdata/datapackage-py) to package data from Figure 2 of this article: https://doi.org/10.7554/eLife.42690.001"
   ]
  },
  {
   "cell_type": "code",
   "execution_count": null,
   "metadata": {},
   "outputs": [],
   "source": [
    "pip install datapackage goodtables"
   ]
  },
  {
   "cell_type": "code",
   "execution_count": 2,
   "metadata": {},
   "outputs": [],
   "source": [
    "from datapackage import Package"
   ]
  },
  {
   "cell_type": "code",
   "execution_count": 3,
   "metadata": {},
   "outputs": [],
   "source": [
    "# create an empty data package\n",
    "package = Package()"
   ]
  },
  {
   "cell_type": "code",
   "execution_count": 4,
   "metadata": {},
   "outputs": [
    {
     "data": {
      "text/plain": [
       "True"
      ]
     },
     "execution_count": 4,
     "metadata": {},
     "output_type": "execute_result"
    }
   ],
   "source": [
    "#infer the JSON schema from our csv data file & save the package\n",
    "#note, make sure your data is in the same folder where you are running this notebook\n",
    "package.infer('elife.csv')\n",
    "package.save('datapackage.json')"
   ]
  },
  {
   "cell_type": "code",
   "execution_count": 5,
   "metadata": {},
   "outputs": [
    {
     "data": {
      "text/plain": [
       "[{'encoding': 'utf-8',\n",
       "  'format': 'csv',\n",
       "  'mediatype': 'text/csv',\n",
       "  'name': 'elife',\n",
       "  'path': 'elife.csv',\n",
       "  'profile': 'tabular-data-resource',\n",
       "  'schema': {'fields': [{'format': 'default',\n",
       "     'name': 'Genotype',\n",
       "     'type': 'string'},\n",
       "    {'format': 'default', 'name': 'Mean', 'type': 'number'},\n",
       "    {'format': 'default', 'name': 'Std. Error', 'type': 'number'},\n",
       "    {'format': 'default', 'name': 'SEM', 'type': 'number'},\n",
       "    {'format': 'default', 'name': 'N (animals/hemisegment)', 'type': 'string'},\n",
       "    {'format': 'default', 'name': 'p-value', 'type': 'string'}],\n",
       "   'missingValues': ['']}}]"
      ]
     },
     "execution_count": 5,
     "metadata": {},
     "output_type": "execute_result"
    }
   ],
   "source": [
    "package.descriptor['resources']"
   ]
  },
  {
   "cell_type": "code",
   "execution_count": 6,
   "metadata": {},
   "outputs": [],
   "source": [
    "means = ([float(e['Mean']) for e in package.resources[0].read(keyed=True)])"
   ]
  },
  {
   "cell_type": "code",
   "execution_count": 7,
   "metadata": {},
   "outputs": [
    {
     "name": "stdout",
     "output_type": "stream",
     "text": [
      "[0.767, 0.0, 0.0, 0.904, 0.967, 0.897, 0.771, 0.0, 0.0, 0.9, 0.567, 0.833, 0.429]\n"
     ]
    }
   ],
   "source": [
    "print(means)"
   ]
  },
  {
   "cell_type": "code",
   "execution_count": 8,
   "metadata": {},
   "outputs": [
    {
     "name": "stdout",
     "output_type": "stream",
     "text": [
      "[('DIP-α-GAL4>EGFP', 0.0), ('DIP-α1-178', 0.0), ('Elav-GAL4>DIP-α', 0.0), ('Mef2-GAL4>DIP-α', 0.0), ('Elav-GAL4 >UAS-DIP-α RNAi', 0.567), ('Mef2-GAL4 >UAS-DIP-α-RNAi', 0.429)]\n"
     ]
    }
   ],
   "source": [
    "print([(e['Genotype'], float(e['Mean'])) for e in package.resources[0].read(keyed=True) if float(e['Mean']) < 0.6])"
   ]
  },
  {
   "cell_type": "code",
   "execution_count": 9,
   "metadata": {},
   "outputs": [],
   "source": [
    "# let's validate our datapackage now\n",
    "from goodtables import validate"
   ]
  },
  {
   "cell_type": "code",
   "execution_count": 10,
   "metadata": {},
   "outputs": [
    {
     "data": {
      "text/plain": [
       "True"
      ]
     },
     "execution_count": 10,
     "metadata": {},
     "output_type": "execute_result"
    }
   ],
   "source": [
    "#validate without a schema\n",
    "report = validate('elife.csv')\n",
    "report['valid']"
   ]
  },
  {
   "cell_type": "code",
   "execution_count": 11,
   "metadata": {},
   "outputs": [
    {
     "data": {
      "text/plain": [
       "True"
      ]
     },
     "execution_count": 11,
     "metadata": {},
     "output_type": "execute_result"
    }
   ],
   "source": [
    "#validate with a schema\n",
    "#remember to only use the JSON 'schema' portion of datapackage.JSON\n",
    "reportValid = validate('elife.csv', schema = 'schema.json', order_fields = True)\n",
    "reportValid['valid']"
   ]
  },
  {
   "cell_type": "code",
   "execution_count": 12,
   "metadata": {},
   "outputs": [
    {
     "data": {
      "text/plain": [
       "False"
      ]
     },
     "execution_count": 12,
     "metadata": {},
     "output_type": "execute_result"
    }
   ],
   "source": [
    "#what happens when we validate an invalid csv file?\n",
    "reportInvalid = validate('elife_invalid.csv')\n",
    "reportInvalid['valid']"
   ]
  },
  {
   "cell_type": "code",
   "execution_count": 13,
   "metadata": {},
   "outputs": [
    {
     "data": {
      "text/plain": [
       "4"
      ]
     },
     "execution_count": 13,
     "metadata": {},
     "output_type": "execute_result"
    }
   ],
   "source": [
    "reportInvalid['error-count']"
   ]
  },
  {
   "cell_type": "code",
   "execution_count": 14,
   "metadata": {},
   "outputs": [
    {
     "data": {
      "text/plain": [
       "[{'code': 'missing-value',\n",
       "  'column-number': 6,\n",
       "  'message': 'Row 2 has a missing value in column 6',\n",
       "  'message-data': {},\n",
       "  'row-number': 2},\n",
       " {'code': 'missing-value',\n",
       "  'column-number': 6,\n",
       "  'message': 'Row 5 has a missing value in column 6',\n",
       "  'message-data': {},\n",
       "  'row-number': 5},\n",
       " {'code': 'missing-value',\n",
       "  'column-number': 6,\n",
       "  'message': 'Row 8 has a missing value in column 6',\n",
       "  'message-data': {},\n",
       "  'row-number': 8},\n",
       " {'code': 'missing-value',\n",
       "  'column-number': 6,\n",
       "  'message': 'Row 11 has a missing value in column 6',\n",
       "  'message-data': {},\n",
       "  'row-number': 11}]"
      ]
     },
     "execution_count": 14,
     "metadata": {},
     "output_type": "execute_result"
    }
   ],
   "source": [
    "reportInvalid['tables'][0]['errors']"
   ]
  }
 ],
 "metadata": {
  "kernelspec": {
   "display_name": "Python 3",
   "language": "python",
   "name": "python3"
  },
  "language_info": {
   "codemirror_mode": {
    "name": "ipython",
    "version": 3
   },
   "file_extension": ".py",
   "mimetype": "text/x-python",
   "name": "python",
   "nbconvert_exporter": "python",
   "pygments_lexer": "ipython3",
   "version": "3.5.1"
  }
 },
 "nbformat": 4,
 "nbformat_minor": 2
}
